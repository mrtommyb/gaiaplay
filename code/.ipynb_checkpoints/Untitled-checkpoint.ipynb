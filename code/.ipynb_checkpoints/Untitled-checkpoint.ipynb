{
 "cells": [
  {
   "cell_type": "code",
   "execution_count": 4,
   "metadata": {
    "collapsed": false
   },
   "outputs": [],
   "source": [
    "from __future__ import division, print_function\n",
    "import numpy as np\n",
    "import matplotlib.pyplot as plt\n",
    "\n",
    "%matplotlib inline\n",
    "\n",
    "import astropy\n",
    "from astropy.io import votable"
   ]
  },
  {
   "cell_type": "code",
   "execution_count": 5,
   "metadata": {
    "collapsed": false
   },
   "outputs": [
    {
     "name": "stderr",
     "output_type": "stream",
     "text": [
      "WARNING: W50: result.vot.gz:28:0: W50: Invalid unit string 'days' [astropy.io.votable.exceptions]\n",
      "WARNING: W50: result.vot.gz:31:0: W50: Invalid unit string 'days' [astropy.io.votable.exceptions]\n",
      "WARNING: W50: result.vot.gz:34:0: W50: Invalid unit string 'days' [astropy.io.votable.exceptions]\n",
      "WARNING: W50: result.vot.gz:64:0: W50: Invalid unit string 'degrees' [astropy.io.votable.exceptions]\n",
      "WARNING: W50: result.vot.gz:67:0: W50: Invalid unit string 'degrees' [astropy.io.votable.exceptions]\n",
      "WARNING: W50: result.vot.gz:70:0: W50: Invalid unit string 'degrees' [astropy.io.votable.exceptions]\n",
      "WARNING: W50: result.vot.gz:103:0: W50: Invalid unit string 'g/cm**3' [astropy.io.votable.exceptions]\n",
      "WARNING: W50: result.vot.gz:106:0: W50: Invalid unit string 'g/cm**3' [astropy.io.votable.exceptions]\n",
      "WARNING: W50: result.vot.gz:109:0: W50: Invalid unit string 'g/cm**3' [astropy.io.votable.exceptions]\n",
      "WARNING: W50: result.vot.gz:130:0: W50: Invalid unit string 'Angle[deg]' (suppressing further warnings of this type...) [astropy.io.votable.exceptions]\n",
      "WARNING: W06: result.vot.gz:214:0: W06: Invalid UCD 'ID_MAIN': Unknown word 'ID_MAIN' [astropy.io.votable.exceptions]\n",
      "WARNING: W06: result.vot.gz:223:0: W06: Invalid UCD 'meta.id;meta.version': Primary word 'meta.version' is not valid as a secondary word [astropy.io.votable.exceptions]\n",
      "WARNING: W32: result.vot.gz:235:0: W32: Duplicate ID 'ra' renamed to 'ra_2' to ensure uniqueness [astropy.io.votable.exceptions]\n",
      "WARNING: W32: result.vot.gz:239:0: W32: Duplicate ID 'dec' renamed to 'dec_2' to ensure uniqueness [astropy.io.votable.exceptions]\n",
      "WARNING: W33: result.vot.gz:235:0: W33: Column name 'ra' renamed to 'ra 2' to ensure uniqueness [astropy.io.votable.exceptions]\n",
      "WARNING: W33: result.vot.gz:239:0: W33: Column name 'dec' renamed to 'dec 2' to ensure uniqueness [astropy.io.votable.exceptions]\n"
     ]
    }
   ],
   "source": [
    "res = votable.parse(\"result.vot.gz\")"
   ]
  },
  {
   "cell_type": "raw",
   "metadata": {},
   "source": []
  }
 ],
 "metadata": {
  "kernelspec": {
   "display_name": "Python 2",
   "language": "python",
   "name": "python2"
  },
  "language_info": {
   "codemirror_mode": {
    "name": "ipython",
    "version": 2
   },
   "file_extension": ".py",
   "mimetype": "text/x-python",
   "name": "python",
   "nbconvert_exporter": "python",
   "pygments_lexer": "ipython2",
   "version": "2.7.11"
  }
 },
 "nbformat": 4,
 "nbformat_minor": 0
}
